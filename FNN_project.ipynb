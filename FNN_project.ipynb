{
  "cells": [
    {
      "cell_type": "markdown",
      "metadata": {
        "id": "view-in-github",
        "colab_type": "text"
      },
      "source": [
        "<a href=\"https://colab.research.google.com/github/Dhanush-adk/ITCS-5156_Project/blob/main/FNN_project.ipynb\" target=\"_parent\"><img src=\"https://colab.research.google.com/assets/colab-badge.svg\" alt=\"Open In Colab\"/></a>"
      ]
    },
    {
      "cell_type": "code",
      "execution_count": 1,
      "metadata": {
        "colab": {
          "base_uri": "https://localhost:8080/"
        },
        "id": "UEGxrIZ8LeQs",
        "outputId": "fc878a3e-d76b-43d6-8cf0-24664b970628"
      },
      "outputs": [
        {
          "output_type": "execute_result",
          "data": {
            "text/plain": [
              "<torch._C.Generator at 0x7fa905b9b930>"
            ]
          },
          "metadata": {},
          "execution_count": 1
        }
      ],
      "source": [
        "import numpy as np\n",
        "import matplotlib.pyplot as plt\n",
        "from scipy import stats\n",
        "import pandas as pd\n",
        "import torch\n",
        "from torch.utils.data import DataLoader, TensorDataset\n",
        "from sklearn.model_selection import train_test_split\n",
        "from sklearn.preprocessing import StandardScaler\n",
        "from sklearn.preprocessing import MinMaxScaler\n",
        "from sklearn.metrics import accuracy_score\n",
        "import torch.optim as optim\n",
        "torch.set_printoptions(edgeitems=2, linewidth=75)\n",
        "torch.manual_seed(123)"
      ]
    },
    {
      "cell_type": "code",
      "execution_count": 2,
      "metadata": {
        "id": "OEhtIax5VQBq"
      },
      "outputs": [],
      "source": [
        "from sklearn.metrics import accuracy_score, classification_report"
      ]
    },
    {
      "cell_type": "code",
      "execution_count": 3,
      "metadata": {
        "colab": {
          "base_uri": "https://localhost:8080/"
        },
        "id": "CdZ_3-rt4HrD",
        "outputId": "fe7a9f0c-5ff9-4dc9-b14b-64cf4c853b97"
      },
      "outputs": [
        {
          "output_type": "stream",
          "name": "stdout",
          "text": [
            "Using device: cuda\n"
          ]
        }
      ],
      "source": [
        "device = torch.device(\"cuda\" if torch.cuda.is_available() else \"cpu\")\n",
        "print(\"Using device:\", device)"
      ]
    },
    {
      "cell_type": "code",
      "execution_count": 4,
      "metadata": {
        "id": "WU9Efz2eLmw7"
      },
      "outputs": [],
      "source": [
        "\n",
        "data = pd.read_csv('https://raw.githubusercontent.com/Dhanush-adk/ITCS-5156_Project/main/Data/train_dataframe.csv')\n",
        "\n",
        "# Remove the 'label' column and store it separately\n",
        "removed_column = data.pop('label')  # Assuming 'label' is the name of the column to be removed\n",
        "Y = pd.DataFrame({'age group': removed_column})\n",
        "\n",
        "# Remaining data\n",
        "X = data.values\n",
        "\n"
      ]
    },
    {
      "cell_type": "code",
      "execution_count": 5,
      "metadata": {
        "colab": {
          "base_uri": "https://localhost:8080/"
        },
        "id": "OdSfjliihL6f",
        "outputId": "aab960d7-d82c-45fd-f81c-60de9506fdb5"
      },
      "outputs": [
        {
          "output_type": "execute_result",
          "data": {
            "text/plain": [
              "(30694, 23)"
            ]
          },
          "metadata": {},
          "execution_count": 5
        }
      ],
      "source": [
        "sc = StandardScaler()\n",
        "X = sc.fit_transform(X)\n",
        "X.shape"
      ]
    },
    {
      "cell_type": "code",
      "execution_count": 6,
      "metadata": {
        "colab": {
          "base_uri": "https://localhost:8080/"
        },
        "id": "Q39k1NojWTRQ",
        "outputId": "424a29c3-6559-4099-9d44-689b4cfcb5d2"
      },
      "outputs": [
        {
          "output_type": "execute_result",
          "data": {
            "text/plain": [
              "(30694,)"
            ]
          },
          "metadata": {},
          "execution_count": 6
        }
      ],
      "source": [
        "label_mapping = {label: idx for idx, label in enumerate(np.unique(Y['age group']))}\n",
        "Y = np.array([label_mapping[label] for label in Y['age group']])\n",
        "X = torch.tensor(X, dtype=torch.float32)\n",
        "Y.shape"
      ]
    },
    {
      "cell_type": "code",
      "execution_count": 7,
      "metadata": {
        "id": "Pmpdc4EUVRLw"
      },
      "outputs": [],
      "source": [
        "# Split the data into training and testing sets\n",
        "X_train, X_test, y_train, y_test = train_test_split(X, Y, test_size=0.2, random_state=42)\n",
        "\n",
        "# Convert NumPy arrays to PyTorch tensors\n",
        "X_train_tensor = torch.FloatTensor(X_train)\n",
        "y_train_tensor = torch.LongTensor(y_train)\n",
        "X_test_tensor = torch.FloatTensor(X_test)\n",
        "y_test_tensor = torch.LongTensor(y_test)\n"
      ]
    },
    {
      "cell_type": "code",
      "execution_count": 8,
      "metadata": {
        "id": "QaXYx0MQZJvz"
      },
      "outputs": [],
      "source": [
        "\n",
        "import torch.nn as nn\n",
        "import torch.optim as optim\n",
        "import numpy as np\n",
        "class SimpleNN(nn.Module):\n",
        "    def __init__(self, input_size, hidden_size, output_size):\n",
        "        super(SimpleNN, self).__init__()\n",
        "        self.fc1 = nn.Linear(input_size, hidden_size)\n",
        "        self.fc2 = nn.Linear(hidden_size, 256)  # Using hidden_size here too\n",
        "        self.fc3 = nn.Linear(256, hidden_size)  # And here\n",
        "        self.fc4 = nn.Linear(hidden_size, output_size)\n",
        "        self.relu = nn.ReLU()\n",
        "        # Dropout layer to prevent overfitting\n",
        "        self.dropout = nn.Dropout(p=0.2)\n",
        "\n",
        "    def forward(self, x):\n",
        "        x = self.relu(self.fc1(x))\n",
        "        x = self.dropout(x)\n",
        "        x = self.relu(self.fc2(x))\n",
        "        x = self.dropout(x)\n",
        "        x = self.relu(self.fc3(x))\n",
        "        x = self.dropout(x)\n",
        "        x = self.fc4(x)\n",
        "        return x\n",
        "\n",
        "\n"
      ]
    },
    {
      "cell_type": "code",
      "execution_count": 9,
      "metadata": {
        "id": "3PdP3t7J6Sks"
      },
      "outputs": [],
      "source": [
        "from sklearn.utils.class_weight import compute_class_weight\n",
        "\n",
        "def compute_class_weights(y):\n",
        "    class_weights = compute_class_weight(  class_weight = 'balanced', classes = np.unique(y),y =  y)\n",
        "    return class_weights\n",
        "\n",
        "# Calculate class weights based on class distribution\n",
        "class_weights = compute_class_weights(y_train)\n",
        "\n",
        "# Convert class weights to a PyTorch tensor\n",
        "class_weights_tensor =  torch.FloatTensor(class_weights).to(device)\n",
        "\n",
        "# Use weighted cross-entropy loss\n",
        "criterion = nn.CrossEntropyLoss(weight=class_weights_tensor)\n"
      ]
    },
    {
      "cell_type": "code",
      "execution_count": 10,
      "metadata": {
        "id": "knFfUd97ZLw1"
      },
      "outputs": [],
      "source": [
        "input_size = X_train.shape[1]\n",
        "hidden_size = 128  # You can adjust this based on your problem\n",
        "output_size = len(np.unique(y_train))\n",
        "# Now, when instantiating the model, it should match:\n",
        "model = SimpleNN(input_size, hidden_size, output_size).to(device)\n",
        "X_train_tensor = X_train_tensor.to(device)  # Move training data to GPU\n",
        "y_train_tensor = y_train_tensor.to(device)\n",
        "X_test_tensor = X_test_tensor.to(device)  # Move test data to GPU\n",
        "y_test_tensor = y_test_tensor.to(device)\n",
        "optimizer = optim.SGD(model.parameters(), lr=0.01)"
      ]
    },
    {
      "cell_type": "code",
      "execution_count": 11,
      "metadata": {
        "colab": {
          "base_uri": "https://localhost:8080/"
        },
        "id": "q55KSqotXs4c",
        "outputId": "017c8830-ff4d-4202-af9f-66e9a81730e7"
      },
      "outputs": [
        {
          "output_type": "stream",
          "name": "stdout",
          "text": [
            "Epoch [100/500], Loss: 0.7220, Training Accuracy: 71.42%, Validation Accuracy: 64.29%\n",
            "Epoch [200/500], Loss: 0.4840, Training Accuracy: 81.14%, Validation Accuracy: 70.50%\n",
            "Epoch [300/500], Loss: 0.4756, Training Accuracy: 84.90%, Validation Accuracy: 72.85%\n",
            "Epoch [400/500], Loss: 0.5710, Training Accuracy: 87.59%, Validation Accuracy: 74.64%\n",
            "Epoch [500/500], Loss: 0.4324, Training Accuracy: 89.37%, Validation Accuracy: 75.42%\n"
          ]
        }
      ],
      "source": [
        "num_epochs = 500\n",
        "batch_size = 32\n",
        "for epoch in range(num_epochs):\n",
        "    model.train()\n",
        "    for i in range(0, len(X_train_tensor), batch_size):\n",
        "        inputs = X_train_tensor[i:i+batch_size]\n",
        "        labels = y_train_tensor[i:i+batch_size]\n",
        "\n",
        "        # Forward pass\n",
        "        outputs = model(inputs)\n",
        "        loss = criterion(outputs, labels)\n",
        "\n",
        "        # Backward pass and optimization\n",
        "        optimizer.zero_grad()\n",
        "        loss.backward()\n",
        "        optimizer.step()\n",
        "\n",
        "    if (epoch + 1) % 100 == 0:\n",
        "        model.eval()\n",
        "        with torch.no_grad():\n",
        "            train_outputs = model(X_train_tensor)\n",
        "            val_outputs = model(X_test_tensor)\n",
        "            _, train_predicted = torch.max(train_outputs, 1)\n",
        "            train_accuracy = accuracy_score(y_train, train_predicted.cpu().numpy())\n",
        "            _, test_predicted = torch.max(val_outputs, 1)\n",
        "            test_accuracy = accuracy_score(y_test, test_predicted.cpu().numpy())  # Move back to CPU for metrics\n",
        "            print(f'Epoch [{epoch+1}/{num_epochs}], Loss: {loss.item():.4f}, Training Accuracy: {train_accuracy * 100:.2f}%, Validation Accuracy: {test_accuracy * 100:.2f}%')\n",
        "        model.train()"
      ]
    },
    {
      "cell_type": "code",
      "execution_count": 12,
      "metadata": {
        "id": "6rwl6-JCj1yB"
      },
      "outputs": [],
      "source": [
        "# Load the data from the URL\n",
        "data = pd.read_csv('https://raw.githubusercontent.com/Dhanush-adk/ITCS-5156_Project/main/Data/test_dataframe.csv')\n",
        "\n",
        "\n",
        "# Remove the 'label' column and store it separately\n",
        "removed_column = data.pop('label')  # Assuming 'label' is the name of the column to be removed\n",
        "Y = pd.DataFrame({'age group': removed_column})\n",
        "\n",
        "# Remaining data\n",
        "X = data.values\n",
        "sc = StandardScaler()\n",
        "X = sc.fit_transform(X)\n",
        "label_mapping = {label: idx for idx, label in enumerate(np.unique(Y['age group']))}\n",
        "y_test = np.array([label_mapping[label] for label in Y['age group']])\n",
        "X_test= torch.tensor(X, dtype=torch.float32)\n",
        "X_test_tensor = torch.FloatTensor(X_test)\n",
        "X_test_tensor = X_test_tensor.to(device)"
      ]
    },
    {
      "cell_type": "code",
      "execution_count": 15,
      "metadata": {
        "colab": {
          "base_uri": "https://localhost:8080/",
          "height": 736
        },
        "id": "8Y2vHwWOXw_d",
        "outputId": "362dd795-7733-4beb-d3b0-3381bd263774"
      },
      "outputs": [
        {
          "output_type": "stream",
          "name": "stdout",
          "text": [
            "Accuracy on the test set: 73.80%\n"
          ]
        },
        {
          "output_type": "display_data",
          "data": {
            "text/plain": [
              "<Figure size 1000x800 with 2 Axes>"
            ],
            "image/png": "[encoded data removed]"
          },
          "metadata": {}
        }
      ],
      "source": [
        "import matplotlib.pyplot as plt\n",
        "import seaborn as sns\n",
        "from sklearn.metrics import confusion_matrix, classification_report\n",
        "\n",
        "predicted_labels = [label for label, idx in label_mapping.items() if idx in y_test]\n",
        "\n",
        "model.eval()\n",
        "with torch.no_grad():\n",
        "    outputs = model(X_test_tensor)\n",
        "    _, predicted = torch.max(outputs, 1)\n",
        "    accuracy = accuracy_score(y_test, predicted.cpu().numpy())  # Move back to CPU for metrics\n",
        "    print(f'Accuracy on the test set: {accuracy * 100:.2f}%')\n",
        "\n",
        "# Confusion matrix\n",
        "conf_matrix = confusion_matrix(y_test, predicted.cpu().numpy())\n",
        "\n",
        "# Plotting the confusion matrix\n",
        "plt.figure(figsize=(10, 8))\n",
        "sns.heatmap(conf_matrix, annot=True, fmt='d', cmap='Blues', xticklabels=predicted_labels, yticklabels=predicted_labels)\n",
        "plt.title('Confusion Matrix')\n",
        "plt.xlabel('Predicted')\n",
        "plt.ylabel('Actual')\n",
        "plt.show()\n"
      ]
    },
    {
      "cell_type": "code",
      "execution_count": 16,
      "metadata": {
        "id": "sW8751_iQXBh",
        "colab": {
          "base_uri": "https://localhost:8080/"
        },
        "outputId": "c7d76b8b-e6cf-44ce-f640-8489b68a1822"
      },
      "outputs": [
        {
          "output_type": "stream",
          "name": "stdout",
          "text": [
            "              precision    recall  f1-score   support\n",
            "\n",
            "    eighties       1.00      1.00      1.00         5\n",
            "     fifties       0.83      0.80      0.81       205\n",
            "    fourties       0.66      0.76      0.70       236\n",
            "   seventies       0.66      0.92      0.77        36\n",
            "     sixties       0.78      0.90      0.84        88\n",
            "       teens       0.65      0.74      0.69       117\n",
            "    thirties       0.74      0.74      0.74       389\n",
            "    twenties       0.77      0.65      0.71       466\n",
            "\n",
            "    accuracy                           0.74      1542\n",
            "   macro avg       0.76      0.81      0.78      1542\n",
            "weighted avg       0.74      0.74      0.74      1542\n",
            "\n"
          ]
        }
      ],
      "source": [
        "print(classification_report(y_test, predicted.cpu().numpy(), target_names=predicted_labels))\n"
      ]
    },
    {
      "cell_type": "code",
      "source": [],
      "metadata": {
        "id": "vyduG8jO5N5A"
      },
      "execution_count": null,
      "outputs": []
    }
  ],
  "metadata": {
    "accelerator": "GPU",
    "colab": {
      "gpuType": "T4",
      "provenance": [],
      "include_colab_link": true
    },
    "kernelspec": {
      "display_name": "Python 3",
      "name": "python3"
    },
    "language_info": {
      "codemirror_mode": {
        "name": "ipython",
        "version": 3
      },
      "file_extension": ".py",
      "mimetype": "text/x-python",
      "name": "python",
      "nbconvert_exporter": "python",
      "pygments_lexer": "ipython3",
      "version": "3.9.8"
    }
  },
  "nbformat": 4,
  "nbformat_minor": 0
}